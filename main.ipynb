{
 "cells": [
  {
   "cell_type": "code",
   "execution_count": 3,
   "id": "1f8d369c",
   "metadata": {},
   "outputs": [],
   "source": [
    "import pandas as pd\n",
    "import numpy as np\n",
    "from sklearn.linear_model import LogisticRegression\n",
    "from sklearn.model_selection import GridSearchCV\n",
    "from sklearn.preprocessing import MinMaxScaler\n",
    "from sklearn.metrics import roc_auc_score"
   ]
  },
  {
   "cell_type": "code",
   "execution_count": 4,
   "id": "6dfa74e3",
   "metadata": {},
   "outputs": [],
   "source": [
    "path_train = r\"datasets/train.csv\"\n",
    "path_test  = r\"datasets/test.csv\"\n",
    "path_add   = r\"datasets/addresses.csv\"\n",
    "path_ll    = r\"datasets/latlons.csv\""
   ]
  },
  {
   "cell_type": "code",
   "execution_count": 7,
   "id": "94c1bbe2",
   "metadata": {},
   "outputs": [],
   "source": [
    "df_train = pd.read_csv(path_train, encoding=\"ISO-8859-1\", engine='python')\n",
    "df_test  = pd.read_csv(path_test, encoding=\"ISO-8859-1\", engine='python')\n",
    "df_add   = pd.read_csv(path_add, encoding=\"ISO-8859-1\", engine='python').set_index('address')\n",
    "df_ll    = pd.read_csv(path_ll, encoding=\"ISO-8859-1\", engine='python').set_index('address')"
   ]
  },
  {
   "cell_type": "code",
   "execution_count": 8,
   "id": "cb70d7f1",
   "metadata": {},
   "outputs": [],
   "source": [
    "df_add = df_add.join(df_ll, how=\"left\")\n",
    "df_add = df_add.set_index('ticket_id')"
   ]
  },
  {
   "cell_type": "code",
   "execution_count": 9,
   "id": "7f5982af",
   "metadata": {},
   "outputs": [],
   "source": [
    "useless_labels = ['agency_name', 'violation_street_number', 'mailing_address_str_number', 'state', \n",
    "                  'disposition', 'violator_name', 'zip_code', 'country', 'city','inspector_name',\n",
    "                  'violation_street_name', 'violation_zip_code', 'violation_description', \n",
    "                  'mailing_address_str_name', 'non_us_str_code', 'ticket_issued_date', \n",
    "                  'hearing_date', 'violation_code', 'grafitti_status']\n",
    "    \n",
    "    \n",
    "train_leaks = [\n",
    "        'balance_due',\n",
    "        'collection_status',\n",
    "        'compliance_detail',\n",
    "        'payment_amount',\n",
    "        'payment_date',\n",
    "        'payment_status', \n",
    "    ]"
   ]
  },
  {
   "cell_type": "code",
   "execution_count": 10,
   "id": "909c4f99",
   "metadata": {},
   "outputs": [
    {
     "name": "stderr",
     "output_type": "stream",
     "text": [
      "/home/ketan/miniconda3/envs/Project1/lib/python3.7/site-packages/pandas/core/frame.py:4913: SettingWithCopyWarning: \n",
      "A value is trying to be set on a copy of a slice from a DataFrame\n",
      "\n",
      "See the caveats in the documentation: https://pandas.pydata.org/pandas-docs/stable/user_guide/indexing.html#returning-a-view-versus-a-copy\n",
      "  errors=errors,\n"
     ]
    }
   ],
   "source": [
    "df_train.drop(useless_labels,inplace = True,axis = 1)\n",
    "df_test.drop(useless_labels,inplace = True,axis = 1)\n",
    "df_train = df_train[(df_train.compliance == 1.0) | (df_train.compliance == 0.0)]\n",
    "df_train.drop(train_leaks,inplace = True,axis = 1)"
   ]
  },
  {
   "cell_type": "code",
   "execution_count": 11,
   "id": "d94f5796",
   "metadata": {},
   "outputs": [],
   "source": [
    "X_train = df_train.iloc[:,:-1]\n",
    "y_train = df_train.iloc[:,-1]\n",
    "X_train = X_train.set_index('ticket_id')\n",
    "X_train = X_train.join(df_add,how = 'left')"
   ]
  },
  {
   "cell_type": "code",
   "execution_count": 12,
   "id": "6f34839f",
   "metadata": {},
   "outputs": [],
   "source": [
    "X_test = df_test\n",
    "X_test = X_test.set_index('ticket_id')\n",
    "X_test = X_test.join(df_add,how = 'left')"
   ]
  },
  {
   "cell_type": "code",
   "execution_count": 13,
   "id": "6a6cd01e",
   "metadata": {},
   "outputs": [],
   "source": [
    "X_train.lat.fillna(method='pad', inplace=True)\n",
    "X_train.lon.fillna(method='pad', inplace=True)\n",
    "X_test.lat.fillna(method='pad', inplace=True)\n",
    "X_test.lon.fillna(method='pad', inplace=True)"
   ]
  },
  {
   "cell_type": "code",
   "execution_count": 14,
   "id": "d5fc01d9",
   "metadata": {},
   "outputs": [],
   "source": [
    "param_grid = {'C':[0.01,0.1,1,10,100]}"
   ]
  },
  {
   "cell_type": "code",
   "execution_count": 15,
   "id": "899702b3",
   "metadata": {},
   "outputs": [],
   "source": [
    "s = MinMaxScaler()\n",
    "X_train_scaled = s.fit_transform(X_train)\n",
    "X_test_sclaed = s.transform(X_test)"
   ]
  },
  {
   "cell_type": "code",
   "execution_count": 16,
   "id": "9e1cab66",
   "metadata": {},
   "outputs": [
    {
     "name": "stderr",
     "output_type": "stream",
     "text": [
      "/home/ketan/miniconda3/envs/Project1/lib/python3.7/site-packages/sklearn/linear_model/_logistic.py:818: ConvergenceWarning: lbfgs failed to converge (status=1):\n",
      "STOP: TOTAL NO. of ITERATIONS REACHED LIMIT.\n",
      "\n",
      "Increase the number of iterations (max_iter) or scale the data as shown in:\n",
      "    https://scikit-learn.org/stable/modules/preprocessing.html\n",
      "Please also refer to the documentation for alternative solver options:\n",
      "    https://scikit-learn.org/stable/modules/linear_model.html#logistic-regression\n",
      "  extra_warning_msg=_LOGISTIC_SOLVER_CONVERGENCE_MSG,\n",
      "/home/ketan/miniconda3/envs/Project1/lib/python3.7/site-packages/sklearn/linear_model/_logistic.py:818: ConvergenceWarning: lbfgs failed to converge (status=1):\n",
      "STOP: TOTAL NO. of ITERATIONS REACHED LIMIT.\n",
      "\n",
      "Increase the number of iterations (max_iter) or scale the data as shown in:\n",
      "    https://scikit-learn.org/stable/modules/preprocessing.html\n",
      "Please also refer to the documentation for alternative solver options:\n",
      "    https://scikit-learn.org/stable/modules/linear_model.html#logistic-regression\n",
      "  extra_warning_msg=_LOGISTIC_SOLVER_CONVERGENCE_MSG,\n"
     ]
    },
    {
     "data": {
      "text/plain": [
       "GridSearchCV(cv=5, estimator=LogisticRegression(),\n",
       "             param_grid={'C': [0.01, 0.1, 1, 10, 100]}, scoring='roc_auc')"
      ]
     },
     "execution_count": 16,
     "metadata": {},
     "output_type": "execute_result"
    }
   ],
   "source": [
    "grid_cv = GridSearchCV(LogisticRegression(),param_grid=param_grid,cv = 5,scoring='roc_auc')\n",
    "grid_cv.fit(X_train_scaled,y_train)"
   ]
  },
  {
   "cell_type": "code",
   "execution_count": 17,
   "id": "514014df",
   "metadata": {},
   "outputs": [],
   "source": [
    "y = grid_cv.predict_proba(X_test_sclaed)[:,1]   \n",
    "result = X_test.index\n",
    "result = pd.Series(data = y,index = result,name = 'compliance')"
   ]
  },
  {
   "cell_type": "code",
   "execution_count": 18,
   "id": "d4e26351",
   "metadata": {},
   "outputs": [
    {
     "data": {
      "text/plain": [
       "ticket_id\n",
       "284932    0.068681\n",
       "285362    0.011564\n",
       "285361    0.078909\n",
       "285338    0.077714\n",
       "285346    0.095258\n",
       "Name: compliance, dtype: float64"
      ]
     },
     "execution_count": 18,
     "metadata": {},
     "output_type": "execute_result"
    }
   ],
   "source": [
    "result.head()"
   ]
  }
 ],
 "metadata": {
  "kernelspec": {
   "display_name": "Python [conda env:Project1]",
   "language": "python",
   "name": "conda-env-Project1-py"
  },
  "language_info": {
   "codemirror_mode": {
    "name": "ipython",
    "version": 3
   },
   "file_extension": ".py",
   "mimetype": "text/x-python",
   "name": "python",
   "nbconvert_exporter": "python",
   "pygments_lexer": "ipython3",
   "version": "3.7.9"
  }
 },
 "nbformat": 4,
 "nbformat_minor": 5
}
